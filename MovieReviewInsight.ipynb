{
 "cells": [
  {
   "cell_type": "code",
   "execution_count": 1,
   "metadata": {},
   "outputs": [],
   "source": [
    "import pandas as pd\n",
    "import numpy as np\n",
    "import matplotlib.pyplot as plt\n",
    "import matplotlib.image as mpimg\n",
    "import seaborn as sns\n",
    "%matplotlib inline"
   ]
  },
  {
   "cell_type": "markdown",
   "metadata": {},
   "source": [
    "## 1 - Load Data"
   ]
  },
  {
   "cell_type": "code",
   "execution_count": 2,
   "metadata": {},
   "outputs": [],
   "source": [
    "train_data = pd.read_csv('train.tsv', sep='\\t', header=0)\n",
    "test_data  = pd.read_csv('test.tsv' , sep='\\t', header=0)\n",
    "\n",
    "sentiments_data = train_data['Sentiment'].values\n",
    "phrase_test  = test_data ['Phrase'].values"
   ]
  },
  {
   "cell_type": "markdown",
   "metadata": {},
   "source": [
    "## 2 - Understand Data Distribution "
   ]
  },
  {
   "cell_type": "code",
   "execution_count": 3,
   "metadata": {},
   "outputs": [
    {
     "data": {
      "text/plain": [
       "2    79582\n",
       "3    32927\n",
       "1    27273\n",
       "4     9206\n",
       "0     7072\n",
       "Name: Sentiment, dtype: int64"
      ]
     },
     "execution_count": 3,
     "metadata": {},
     "output_type": "execute_result"
    },
    {
     "data": {
      "image/png": "[encoded data removed]",
      "text/plain": [
       "<matplotlib.figure.Figure at 0x7f9bcc07d3d0>"
      ]
     },
     "metadata": {},
     "output_type": "display_data"
    }
   ],
   "source": [
    "graph = sns.countplot(sentiments_data)\n",
    "\n",
    "train_data ['Sentiment'].value_counts()"
   ]
  },
  {
   "cell_type": "markdown",
   "metadata": {},
   "source": [
    "## 2 - Most Informative Word"
   ]
  },
  {
   "cell_type": "code",
   "execution_count": 4,
   "metadata": {},
   "outputs": [],
   "source": [
    "\n",
    "import nltk.classify.util\n",
    "from nltk.classify import NaiveBayesClassifier\n",
    "import pandas as pd\n",
    "import numpy as np\n",
    "import csv as csv\n",
    "from nltk.tokenize import word_tokenize"
   ]
  },
  {
   "cell_type": "code",
   "execution_count": 5,
   "metadata": {},
   "outputs": [],
   "source": [
    "train_data = pd.read_csv('train.tsv', sep='\\t', header=0)\n",
    "\n",
    "movie_data = []\n",
    "for index, row in train_data.iterrows():\n",
    "    if row['Sentiment'] < 2:\n",
    "        tup = (row['Phrase'] ,'neg')\n",
    "    elif row['Sentiment'] > 2:\n",
    "        tup = (row['Phrase'] ,'pos')\n",
    "    movie_data.append(tup)"
   ]
  },
  {
   "cell_type": "code",
   "execution_count": 6,
   "metadata": {},
   "outputs": [],
   "source": [
    "words_train_data = [({word: 'true' for word in word_tokenize(x[0])}, x[1]) for x in movie_data]"
   ]
  },
  {
   "cell_type": "code",
   "execution_count": 7,
   "metadata": {},
   "outputs": [
    {
     "name": "stdout",
     "output_type": "stream",
     "text": [
      "Most Informative Features\n",
      "                   worse = 'true'            neg : pos    =    114.2 : 1.0\n",
      "                    bore = 'true'            neg : pos    =     95.3 : 1.0\n",
      "                  devoid = 'true'            neg : pos    =     93.7 : 1.0\n",
      "                    ugly = 'true'            neg : pos    =     84.0 : 1.0\n",
      "               wonderful = 'true'            pos : neg    =     76.4 : 1.0\n",
      "                 shallow = 'true'            neg : pos    =     71.1 : 1.0\n",
      "               obnoxious = 'true'            neg : pos    =     69.8 : 1.0\n",
      "                 rip-off = 'true'            neg : pos    =     69.8 : 1.0\n",
      "                   banal = 'true'            neg : pos    =     67.4 : 1.0\n",
      "                shooting = 'true'            neg : pos    =     66.6 : 1.0\n",
      "                   treat = 'true'            pos : neg    =     66.0 : 1.0\n",
      "                     wry = 'true'            pos : neg    =     58.2 : 1.0\n",
      "                 dullest = 'true'            neg : pos    =     57.8 : 1.0\n",
      "             pretentious = 'true'            neg : pos    =     57.6 : 1.0\n",
      "                   loses = 'true'            neg : pos    =     57.2 : 1.0\n",
      "                    flat = 'true'            neg : pos    =     53.3 : 1.0\n",
      "              Washington = 'true'            pos : neg    =     51.5 : 1.0\n",
      "                plodding = 'true'            neg : pos    =     49.9 : 1.0\n",
      "                 require = 'true'            neg : pos    =     49.1 : 1.0\n",
      "                remotely = 'true'            neg : pos    =     49.1 : 1.0\n",
      "                 suffers = 'true'            neg : pos    =     48.6 : 1.0\n",
      "                 enjoyed = 'true'            pos : neg    =     47.6 : 1.0\n",
      "             bittersweet = 'true'            pos : neg    =     47.6 : 1.0\n",
      "                    pile = 'true'            neg : pos    =     47.5 : 1.0\n",
      "                    mess = 'true'            neg : pos    =     47.3 : 1.0\n",
      "            accomplished = 'true'            pos : neg    =     47.1 : 1.0\n",
      "                sentence = 'true'            neg : pos    =     46.7 : 1.0\n",
      "                    deft = 'true'            pos : neg    =     46.5 : 1.0\n",
      "                   tears = 'true'            pos : neg    =     46.0 : 1.0\n",
      "               imitation = 'true'            neg : pos    =     45.9 : 1.0\n",
      "              amateurish = 'true'            neg : pos    =     45.2 : 1.0\n",
      "               incessant = 'true'            neg : pos    =     45.1 : 1.0\n",
      "                   badly = 'true'            neg : pos    =     43.3 : 1.0\n",
      "                    poor = 'true'            neg : pos    =     43.2 : 1.0\n",
      "                 pointed = 'true'            pos : neg    =     43.2 : 1.0\n",
      "                 cliched = 'true'            neg : pos    =     42.8 : 1.0\n",
      "                  stupid = 'true'            neg : pos    =     42.1 : 1.0\n",
      "                 dancing = 'true'            pos : neg    =     42.1 : 1.0\n",
      "             dumbed-down = 'true'            neg : pos    =     41.1 : 1.0\n",
      "                  exotic = 'true'            pos : neg    =     40.9 : 1.0\n",
      "                clumsily = 'true'            neg : pos    =     40.3 : 1.0\n",
      "           unpredictable = 'true'            pos : neg    =     39.8 : 1.0\n",
      "                    bold = 'true'            pos : neg    =     38.7 : 1.0\n",
      "              depressing = 'true'            neg : pos    =     37.9 : 1.0\n",
      "                tolerate = 'true'            neg : pos    =     37.1 : 1.0\n",
      "               top-notch = 'true'            pos : neg    =     37.0 : 1.0\n",
      "                classics = 'true'            pos : neg    =     36.5 : 1.0\n",
      "                  timely = 'true'            pos : neg    =     35.9 : 1.0\n",
      "              uninspired = 'true'            neg : pos    =     35.7 : 1.0\n",
      "                   guess = 'true'            neg : pos    =     35.2 : 1.0\n",
      "           extraordinary = 'true'            pos : neg    =     34.3 : 1.0\n",
      "                 dentist = 'true'            neg : pos    =     33.9 : 1.0\n",
      "                schmaltz = 'true'            neg : pos    =     33.9 : 1.0\n",
      "            manufactured = 'true'            neg : pos    =     32.8 : 1.0\n",
      "               contrived = 'true'            neg : pos    =     32.7 : 1.0\n",
      "              traditions = 'true'            pos : neg    =     32.6 : 1.0\n",
      "                rambling = 'true'            neg : pos    =     32.3 : 1.0\n",
      "                  static = 'true'            neg : pos    =     32.3 : 1.0\n",
      "                   logic = 'true'            neg : pos    =     32.3 : 1.0\n",
      "                   worst = 'true'            neg : pos    =     32.1 : 1.0\n",
      "             Equilibrium = 'true'            neg : pos    =     31.5 : 1.0\n",
      "               88-minute = 'true'            neg : pos    =     31.5 : 1.0\n",
      "                 captain = 'true'            neg : pos    =     31.5 : 1.0\n",
      "               confident = 'true'            pos : neg    =     31.5 : 1.0\n",
      "                 soulful = 'true'            pos : neg    =     31.3 : 1.0\n",
      "                touching = 'true'            pos : neg    =     30.9 : 1.0\n",
      "               diversion = 'true'            pos : neg    =     30.9 : 1.0\n",
      "              Prophecies = 'true'            neg : pos    =     30.7 : 1.0\n",
      "              transcends = 'true'            pos : neg    =     30.4 : 1.0\n",
      "                    Walk = 'true'            pos : neg    =     30.4 : 1.0\n",
      "                   hokum = 'true'            neg : pos    =     29.9 : 1.0\n",
      "               aimlessly = 'true'            neg : pos    =     29.9 : 1.0\n",
      "                terrific = 'true'            pos : neg    =     29.9 : 1.0\n",
      "                  status = 'true'            pos : neg    =     29.8 : 1.0\n",
      "                 Dickens = 'true'            pos : neg    =     29.2 : 1.0\n",
      "                  France = 'true'            pos : neg    =     29.2 : 1.0\n",
      "                 muddled = 'true'            neg : pos    =     29.1 : 1.0\n",
      "                  misses = 'true'            neg : pos    =     29.1 : 1.0\n",
      "                  unique = 'true'            pos : neg    =     28.9 : 1.0\n",
      "              delicately = 'true'            pos : neg    =     28.7 : 1.0\n",
      "            neighborhood = 'true'            pos : neg    =     28.7 : 1.0\n",
      "              recognized = 'true'            neg : pos    =     28.3 : 1.0\n",
      "            arrangements = 'true'            neg : pos    =     28.3 : 1.0\n",
      "                affected = 'true'            neg : pos    =     28.3 : 1.0\n",
      "             considering = 'true'            neg : pos    =     28.3 : 1.0\n",
      "          power-lunchers = 'true'            neg : pos    =     28.3 : 1.0\n",
      "              melancholy = 'true'            pos : neg    =     28.1 : 1.0\n",
      "                  amuses = 'true'            neg : pos    =     27.5 : 1.0\n",
      "          blaxploitation = 'true'            neg : pos    =     27.5 : 1.0\n",
      "              repeatedly = 'true'            neg : pos    =     27.5 : 1.0\n",
      "                  deaths = 'true'            neg : pos    =     27.5 : 1.0\n",
      "            indifference = 'true'            neg : pos    =     27.5 : 1.0\n",
      "                    None = 'true'            neg : pos    =     27.5 : 1.0\n",
      "                plotting = 'true'            neg : pos    =     27.2 : 1.0\n",
      "                 wartime = 'true'            pos : neg    =     27.0 : 1.0\n",
      "            unexpectedly = 'true'            pos : neg    =     27.0 : 1.0\n",
      "                 Russian = 'true'            pos : neg    =     26.9 : 1.0\n",
      "                 buoyant = 'true'            pos : neg    =     26.9 : 1.0\n",
      "             overwrought = 'true'            neg : pos    =     26.8 : 1.0\n",
      "                 Stewart = 'true'            neg : pos    =     26.7 : 1.0\n"
     ]
    }
   ],
   "source": [
    "classifier = NaiveBayesClassifier.train(words_train_data)\n",
    "classifier.show_most_informative_features(100)"
   ]
  },
  {
   "cell_type": "markdown",
   "metadata": {},
   "source": [
    "## First Top 10 Postive Reviews"
   ]
  },
  {
   "cell_type": "code",
   "execution_count": 8,
   "metadata": {},
   "outputs": [
    {
     "name": "stdout",
     "output_type": "stream",
     "text": [
      "This quiet , introspective and entertaining independent is worth seeking .\n",
      "quiet , introspective and entertaining independent\n",
      "entertaining\n",
      "is worth seeking\n",
      "A positively thrilling combination of ethnography and all the intrigue , betrayal , deceit and murder of a Shakespearean tragedy or a juicy soap opera\n",
      "A positively thrilling combination of ethnography and all the intrigue , betrayal , deceit and murder\n",
      "thrilling\n",
      "A comedy-drama of nearly epic proportions rooted in a sincere performance by the title character undergoing midlife crisis .\n",
      "nearly epic\n",
      "rooted in a sincere performance by the title character undergoing midlife crisis .\n",
      "in a sincere performance\n"
     ]
    }
   ],
   "source": [
    "i = 0\n",
    "for index, row in train_data.iterrows():\n",
    "    if i > 10:\n",
    "        break\n",
    "    if row['Sentiment'] == 4 :\n",
    "        print row['Phrase']\n",
    "        i += 1"
   ]
  },
  {
   "cell_type": "markdown",
   "metadata": {},
   "source": [
    "## First Top 10 Negtive Reviews"
   ]
  },
  {
   "cell_type": "code",
   "execution_count": 9,
   "metadata": {},
   "outputs": [
    {
     "name": "stdout",
     "output_type": "stream",
     "text": [
      "A series of escapades demonstrating the adage that what is good for the goose is also good for the gander , some of which occasionally amuses but none of which amounts to much of a story .\n",
      "the gander , some of which occasionally amuses but none of which amounts to much of a story\n",
      "but none of which amounts to much of a story\n",
      "none of which amounts to much of a story\n",
      "Even fans of Ismail Merchant 's work , I suspect , would have a hard time sitting through this one .\n",
      ", I suspect , would have a hard time sitting through this one .\n",
      "would have a hard time sitting through this one .\n",
      "a hard time sitting through this one\n",
      "a hard time\n",
      "hard time\n",
      "sitting through this one\n"
     ]
    }
   ],
   "source": [
    "i = 0\n",
    "for index, row in train_data.iterrows():\n",
    "    if i > 10:\n",
    "        break\n",
    "    if row['Sentiment'] == 1:\n",
    "        print row['Phrase']\n",
    "        i += 1"
   ]
  }
 ],
 "metadata": {
  "kernelspec": {
   "display_name": "Python 2",
   "language": "python",
   "name": "python2"
  },
  "language_info": {
   "codemirror_mode": {
    "name": "ipython",
    "version": 2
   },
   "file_extension": ".py",
   "mimetype": "text/x-python",
   "name": "python",
   "nbconvert_exporter": "python",
   "pygments_lexer": "ipython2",
   "version": "2.7.12"
  }
 },
 "nbformat": 4,
 "nbformat_minor": 2
}
